{
 "cells": [
  {
   "cell_type": "code",
   "execution_count": 3,
   "id": "09050e11-1a35-413c-959f-79e2c848189e",
   "metadata": {},
   "outputs": [],
   "source": [
    "# Importation des bibliothèques  \n",
    "from sentence_transformers import SentenceTransformer  \n",
    "from sklearn.neighbors import NearestNeighbors  \n",
    "import numpy as np  \n",
    "import pandas as pd  \n",
    "import matplotlib.pyplot as plt  \n",
    "import pickle  \n",
    "import os  \n",
    "import warnings  \n",
    "warnings.filterwarnings(\"ignore\")  "
   ]
  },
  {
   "cell_type": "code",
   "execution_count": 4,
   "id": "62bc9aa7-7d66-4b37-abc7-993d521d4a6d",
   "metadata": {},
   "outputs": [
    {
     "name": "stdout",
     "output_type": "stream",
     "text": [
      "Chargement des données préparées...\n",
      "Données chargées depuis le fichier pickle.\n",
      "Forme du dataset: (5000, 14)\n",
      "\n",
      "Aperçu des données:\n"
     ]
    },
    {
     "data": {
      "text/html": [
       "<div>\n",
       "<style scoped>\n",
       "    .dataframe tbody tr th:only-of-type {\n",
       "        vertical-align: middle;\n",
       "    }\n",
       "\n",
       "    .dataframe tbody tr th {\n",
       "        vertical-align: top;\n",
       "    }\n",
       "\n",
       "    .dataframe thead th {\n",
       "        text-align: right;\n",
       "    }\n",
       "</style>\n",
       "<table border=\"1\" class=\"dataframe\">\n",
       "  <thead>\n",
       "    <tr style=\"text-align: right;\">\n",
       "      <th></th>\n",
       "      <th>Uniq Id</th>\n",
       "      <th>Product Id</th>\n",
       "      <th>Product Name</th>\n",
       "      <th>Product Rating</th>\n",
       "      <th>Clicked</th>\n",
       "      <th>View_Time_Sec</th>\n",
       "      <th>Product Description</th>\n",
       "      <th>Product Tags</th>\n",
       "      <th>Product Category</th>\n",
       "      <th>Product Brand</th>\n",
       "      <th>Product Reviews Count</th>\n",
       "      <th>Full_Text</th>\n",
       "      <th>Norm_View_Time</th>\n",
       "      <th>Rating</th>\n",
       "    </tr>\n",
       "  </thead>\n",
       "  <tbody>\n",
       "    <tr>\n",
       "      <th>0</th>\n",
       "      <td>1705736792d82aa2f2d3caf1c07c53f4</td>\n",
       "      <td>2e17bf4acecdece67fc00f07ad62c910</td>\n",
       "      <td>OPI Infinite Shine, Nail Lacquer Nail Polish, ...</td>\n",
       "      <td>4.218750</td>\n",
       "      <td>0</td>\n",
       "      <td>0</td>\n",
       "      <td></td>\n",
       "      <td>OPI Infinite Shine, Nail Lacquer Nail Polish, ...</td>\n",
       "      <td>Premium Beauty &gt; Premium Makeup &gt; Premium Nail...</td>\n",
       "      <td>OPI</td>\n",
       "      <td>571.035565</td>\n",
       "      <td>opi infinite shine, nail lacquer nail polish,...</td>\n",
       "      <td>0.000000</td>\n",
       "      <td>2.109375</td>\n",
       "    </tr>\n",
       "    <tr>\n",
       "      <th>1</th>\n",
       "      <td>95a9fe6f4810fcfc7ff244fd06784f11</td>\n",
       "      <td>076e5854a62dd283c253d6bae415af1f</td>\n",
       "      <td>Nice n Easy Permanent Color, 111 Natural Mediu...</td>\n",
       "      <td>3.966667</td>\n",
       "      <td>1</td>\n",
       "      <td>147</td>\n",
       "      <td>Pack of 3 Pack of 3 for the UPC: 381519000201 ...</td>\n",
       "      <td>Nice 'n Easy Permanent Color, 111 Natural Medi...</td>\n",
       "      <td>Beauty &gt; Hair Care &gt; Hair Color &gt; Auburn Hair ...</td>\n",
       "      <td>Nice'n Easy</td>\n",
       "      <td>571.035565</td>\n",
       "      <td>pack of 3 pack of 3 for the upc: 381519000201 ...</td>\n",
       "      <td>0.816667</td>\n",
       "      <td>4.300000</td>\n",
       "    </tr>\n",
       "    <tr>\n",
       "      <th>2</th>\n",
       "      <td>8d4d0330178d3ed181b15a4102b287f2</td>\n",
       "      <td>8a4fe5d9c7a6ed26cc44d785a454b124</td>\n",
       "      <td>Clairol Nice N Easy Permanent Color 7/106A Nat...</td>\n",
       "      <td>4.500000</td>\n",
       "      <td>0</td>\n",
       "      <td>0</td>\n",
       "      <td>This Clairol Nice N Easy Permanent Color gives...</td>\n",
       "      <td>Clairol Nice 'N Easy Permanent Color 7/106A Na...</td>\n",
       "      <td>Beauty &gt; Hair Care &gt; Hair Color &gt; Permanent Ha...</td>\n",
       "      <td>Clairol</td>\n",
       "      <td>29221.000000</td>\n",
       "      <td>this clairol nice n easy permanent color gives...</td>\n",
       "      <td>0.000000</td>\n",
       "      <td>2.250000</td>\n",
       "    </tr>\n",
       "    <tr>\n",
       "      <th>3</th>\n",
       "      <td>fddc4df45b35efd886794b261f730c51</td>\n",
       "      <td>03b5fb878a33eadff8b033419eab9669</td>\n",
       "      <td>Kokie Professional Matte Lipstick, Hot Berry, ...</td>\n",
       "      <td>4.024138</td>\n",
       "      <td>0</td>\n",
       "      <td>0</td>\n",
       "      <td>Calling all matte lip lovers! Indulge in our r...</td>\n",
       "      <td>Kokie Professional Matte Lipstick, Hot Berry, ...</td>\n",
       "      <td>Beauty &gt; Makeup &gt; Lip</td>\n",
       "      <td>Kokie Cosmetics</td>\n",
       "      <td>571.035565</td>\n",
       "      <td>calling all matte lip lovers! indulge in our r...</td>\n",
       "      <td>0.000000</td>\n",
       "      <td>2.012069</td>\n",
       "    </tr>\n",
       "    <tr>\n",
       "      <th>4</th>\n",
       "      <td>0990cf89a59ca6a0460349a3e4f51d42</td>\n",
       "      <td>ce3d761e57d6ccad80619297b5b1bcbc</td>\n",
       "      <td>Gillette TRAC II Plus Razor Blade Refills, Fit...</td>\n",
       "      <td>5.000000</td>\n",
       "      <td>1</td>\n",
       "      <td>177</td>\n",
       "      <td>In 1971, Gillette introduced the Trac II razor...</td>\n",
       "      <td>Gillette TRAC II Plus Razor Blade Refills, Fit...</td>\n",
       "      <td>Seasonal &gt; Stock Up Essentials &gt; Personal Care...</td>\n",
       "      <td>Gillette</td>\n",
       "      <td>131.000000</td>\n",
       "      <td>in 1971, gillette introduced the trac ii razor...</td>\n",
       "      <td>0.983333</td>\n",
       "      <td>4.983333</td>\n",
       "    </tr>\n",
       "  </tbody>\n",
       "</table>\n",
       "</div>"
      ],
      "text/plain": [
       "                            Uniq Id                        Product Id  \\\n",
       "0  1705736792d82aa2f2d3caf1c07c53f4  2e17bf4acecdece67fc00f07ad62c910   \n",
       "1  95a9fe6f4810fcfc7ff244fd06784f11  076e5854a62dd283c253d6bae415af1f   \n",
       "2  8d4d0330178d3ed181b15a4102b287f2  8a4fe5d9c7a6ed26cc44d785a454b124   \n",
       "3  fddc4df45b35efd886794b261f730c51  03b5fb878a33eadff8b033419eab9669   \n",
       "4  0990cf89a59ca6a0460349a3e4f51d42  ce3d761e57d6ccad80619297b5b1bcbc   \n",
       "\n",
       "                                        Product Name  Product Rating  Clicked  \\\n",
       "0  OPI Infinite Shine, Nail Lacquer Nail Polish, ...        4.218750        0   \n",
       "1  Nice n Easy Permanent Color, 111 Natural Mediu...        3.966667        1   \n",
       "2  Clairol Nice N Easy Permanent Color 7/106A Nat...        4.500000        0   \n",
       "3  Kokie Professional Matte Lipstick, Hot Berry, ...        4.024138        0   \n",
       "4  Gillette TRAC II Plus Razor Blade Refills, Fit...        5.000000        1   \n",
       "\n",
       "   View_Time_Sec                                Product Description  \\\n",
       "0              0                                                      \n",
       "1            147  Pack of 3 Pack of 3 for the UPC: 381519000201 ...   \n",
       "2              0  This Clairol Nice N Easy Permanent Color gives...   \n",
       "3              0  Calling all matte lip lovers! Indulge in our r...   \n",
       "4            177  In 1971, Gillette introduced the Trac II razor...   \n",
       "\n",
       "                                        Product Tags  \\\n",
       "0  OPI Infinite Shine, Nail Lacquer Nail Polish, ...   \n",
       "1  Nice 'n Easy Permanent Color, 111 Natural Medi...   \n",
       "2  Clairol Nice 'N Easy Permanent Color 7/106A Na...   \n",
       "3  Kokie Professional Matte Lipstick, Hot Berry, ...   \n",
       "4  Gillette TRAC II Plus Razor Blade Refills, Fit...   \n",
       "\n",
       "                                    Product Category    Product Brand  \\\n",
       "0  Premium Beauty > Premium Makeup > Premium Nail...              OPI   \n",
       "1  Beauty > Hair Care > Hair Color > Auburn Hair ...      Nice'n Easy   \n",
       "2  Beauty > Hair Care > Hair Color > Permanent Ha...          Clairol   \n",
       "3                              Beauty > Makeup > Lip  Kokie Cosmetics   \n",
       "4  Seasonal > Stock Up Essentials > Personal Care...         Gillette   \n",
       "\n",
       "   Product Reviews Count                                          Full_Text  \\\n",
       "0             571.035565   opi infinite shine, nail lacquer nail polish,...   \n",
       "1             571.035565  pack of 3 pack of 3 for the upc: 381519000201 ...   \n",
       "2           29221.000000  this clairol nice n easy permanent color gives...   \n",
       "3             571.035565  calling all matte lip lovers! indulge in our r...   \n",
       "4             131.000000  in 1971, gillette introduced the trac ii razor...   \n",
       "\n",
       "   Norm_View_Time    Rating  \n",
       "0        0.000000  2.109375  \n",
       "1        0.816667  4.300000  \n",
       "2        0.000000  2.250000  \n",
       "3        0.000000  2.012069  \n",
       "4        0.983333  4.983333  "
      ]
     },
     "metadata": {},
     "output_type": "display_data"
    }
   ],
   "source": [
    "# Chargement des données préparées  \n",
    "print(\"Chargement des données préparées...\")  \n",
    "try:  \n",
    "    # Essayer de charger depuis le fichier pickle  \n",
    "    with open('../data/processed/clean_dataset.pkl', 'rb') as f:  \n",
    "        df = pickle.load(f)  \n",
    "    print(\"Données chargées depuis le fichier pickle.\")  \n",
    "except:  \n",
    "    # Sinon, charger depuis le CSV  \n",
    "    df = pd.read_csv('../data/processed/clean_dataset.csv')  \n",
    "    print(\"Données chargées depuis le fichier CSV.\")  \n",
    "  \n",
    "print(f\"Forme du dataset: {df.shape}\")  \n",
    "print(\"\\nAperçu des données:\")  \n",
    "display(df.head())  "
   ]
  },
  {
   "cell_type": "code",
   "execution_count": 5,
   "id": "1953269b-3e5c-4274-b9d3-8cbacd07638a",
   "metadata": {},
   "outputs": [
    {
     "name": "stdout",
     "output_type": "stream",
     "text": [
      "\n",
      " Préparation des données pour le filtrage basé sur le contenu (BERT + KNN)...\n",
      "Nombre de produits uniques: 4802\n"
     ]
    }
   ],
   "source": [
    "  \n",
    "# Préparation des données pour le filtrage basé sur le contenu  \n",
    "print(\"\\n Préparation des données pour le filtrage basé sur le contenu (BERT + KNN)...\")  \n",
    "  \n",
    "# Création d'un DataFrame avec des produits uniques  \n",
    "products_df = df.drop_duplicates('Product Id')  \n",
    "print(f\"Nombre de produits uniques: {products_df['Product Id'].nunique()}\")  "
   ]
  },
  {
   "cell_type": "code",
   "execution_count": 6,
   "id": "bc171a4b-2b57-4b76-bf20-9819898c6e18",
   "metadata": {},
   "outputs": [
    {
     "name": "stdout",
     "output_type": "stream",
     "text": [
      "\n",
      " Génération des embeddings BERT...\n",
      "Modèle BERT chargé: paraphrase-MiniLM-L6-v2\n",
      "Génération des embeddings pour les descriptions de produits...\n"
     ]
    },
    {
     "data": {
      "application/vnd.jupyter.widget-view+json": {
       "model_id": "ed5c55c871d14d39bda65263e770d89b",
       "version_major": 2,
       "version_minor": 0
      },
      "text/plain": [
       "Batches:   0%|          | 0/151 [00:00<?, ?it/s]"
      ]
     },
     "metadata": {},
     "output_type": "display_data"
    },
    {
     "name": "stdout",
     "output_type": "stream",
     "text": [
      "Forme des embeddings: (4802, 384)\n"
     ]
    }
   ],
   "source": [
    " \n",
    "# Génération des embeddings BERT  \n",
    "print(\"\\n Génération des embeddings BERT...\")  \n",
    "# Chargement du modèle BERT pré-entraîné  \n",
    "model = SentenceTransformer('paraphrase-MiniLM-L6-v2')  \n",
    "print(\"Modèle BERT chargé: paraphrase-MiniLM-L6-v2\")  \n",
    "  \n",
    "# Génération des embeddings pour chaque produit  \n",
    "print(\"Génération des embeddings pour les descriptions de produits...\")  \n",
    "embeddings = model.encode(products_df['Full_Text'].tolist(), show_progress_bar=True)  \n",
    "print(f\"Forme des embeddings: {embeddings.shape}\")  "
   ]
  },
  {
   "cell_type": "code",
   "execution_count": 7,
   "id": "bd1183ad-481f-4611-be81-96362dbf20b2",
   "metadata": {},
   "outputs": [
    {
     "name": "stdout",
     "output_type": "stream",
     "text": [
      "\n",
      " Entraînement du modèle KNN sur les embeddings BERT...\n",
      "Modèle KNN entraîné avec succès.\n"
     ]
    }
   ],
   "source": [
    "  \n",
    "#  Modèle KNN pour BERT  \n",
    "print(\"\\n Entraînement du modèle KNN sur les embeddings BERT...\")  \n",
    "knn_model = NearestNeighbors(  \n",
    "    n_neighbors=10,       \n",
    "    algorithm='auto',       \n",
    "    metric='cosine'       \n",
    ")  \n",
    "knn_model.fit(embeddings)  \n",
    "print(\"Modèle KNN entraîné avec succès.\")  "
   ]
  },
  {
   "cell_type": "code",
   "execution_count": 8,
   "id": "2365b811-26fd-4515-b607-12fdf518b22b",
   "metadata": {},
   "outputs": [
    {
     "name": "stdout",
     "output_type": "stream",
     "text": [
      "\n",
      " Exemple de recommandation avec BERT + KNN:\n",
      "Produit sélectionné: Hair Building Fiber Refill Bag by Finally Hair - 25 Gram Refill Bag Hair Filler Fibers Used To Thicken Hair, Fill In Balding Thinning Areas (Golden Blonde)\n",
      "Catégorie: Premium Beauty > Premium Hair Care & Hair Tools > Premium Hair & Scalp Treatments\n",
      "\n",
      "Produits similaires:\n",
      "1. Joico Moisture Recovery Treatment Balm For Thick/Course Hair 8.5 Oz (Similarité: 0.6346)\n",
      "   Catégorie: Premium Beauty > Premium Hair Care > Premium Hair & Scalp Treatments\n",
      "2. Matrix Biolage ColorLast Wash for color treated hair 33.8 fl oz (Similarité: 0.6214)\n",
      "   Catégorie: Premium Beauty > Premium Hair Care & Hair Tools > Premium Shampoos\n",
      "3. Moroccanoil Strong Styling Hair Gel, 6 Oz (Similarité: 0.6195)\n",
      "   Catégorie: Premium Beauty > Premium Hair Care > Premium Styling Products > Hair Styling Products\n",
      "4. Ag Hair Cosmetics Ultradynamics Extra-Firm Finishing Hairspray 10 Oz (Similarité: 0.6159)\n",
      "   Catégorie: Premium Beauty > Premium Hair Care & Hair Tools > Premium Styling Products > Premium Hair Spray\n",
      "5. Unite Hair Boosta Shampoo, Gentle Cleansing, 33 oz (Similarité: 0.6143)\n",
      "   Catégorie: Premium Beauty > Premium Hair Care & Hair Tools > Premium Shampoos\n"
     ]
    }
   ],
   "source": [
    "  \n",
    "# Exemple de recommandation  \n",
    "print(\"\\n Exemple de recommandation avec BERT + KNN:\")  \n",
    "# Sélectionner un produit aléatoire  \n",
    "sample_idx = np.random.randint(0, len(products_df))  \n",
    "sample_product = products_df.iloc[sample_idx]  \n",
    "print(f\"Produit sélectionné: {sample_product['Product Name']}\")  \n",
    "print(f\"Catégorie: {sample_product['Product Category']}\")  \n",
    "  \n",
    "# Trouver les produits similaires  \n",
    "sample_vector = embeddings[sample_idx].reshape(1, -1)  \n",
    "distances, indices = knn_model.kneighbors(sample_vector)  \n",
    "  \n",
    "print(\"\\nProduits similaires:\")  \n",
    "for i, idx in enumerate(indices[0][1:6]):   \n",
    "    similar_product = products_df.iloc[idx]  \n",
    "    print(f\"{i+1}. {similar_product['Product Name']} (Similarité: {1-distances[0][i+1]:.4f})\")  \n",
    "    print(f\"   Catégorie: {similar_product['Product Category']}\")  "
   ]
  },
  {
   "cell_type": "code",
   "execution_count": 9,
   "id": "b9646bf1-fa58-48f7-97c2-5ea5f3aecd7a",
   "metadata": {},
   "outputs": [
    {
     "name": "stdout",
     "output_type": "stream",
     "text": [
      "\n",
      " Évaluation du modèle BERT + KNN:\n",
      "Précision de la catégorie: 0.3040\n"
     ]
    }
   ],
   "source": [
    "# Évaluation  \n",
    "print(\"\\n Évaluation du modèle BERT + KNN:\")  \n",
    "# Calcul de la précision de la catégorie  \n",
    "same_category_count = 0  \n",
    "total_recommendations = 0  \n",
    "  \n",
    "# Échantillonner 100 produits aléatoires pour l'évaluation  \n",
    "sample_size = min(100, len(products_df))  \n",
    "sample_indices = np.random.choice(len(products_df), sample_size, replace=False)  \n",
    "  \n",
    "for idx in sample_indices:  \n",
    "    product = products_df.iloc[idx]  \n",
    "    product_vector = embeddings[idx].reshape(1, -1)  \n",
    "    distances, indices = knn_model.kneighbors(product_vector)  \n",
    "      \n",
    "    # Vérifier si les 5 premiers produits recommandés sont de la même catégorie  \n",
    "    for rec_idx in indices[0][1:6]:  \n",
    "        recommended_product = products_df.iloc[rec_idx]  \n",
    "        if recommended_product['Product Category'] == product['Product Category']:  \n",
    "            same_category_count += 1  \n",
    "        total_recommendations += 1  \n",
    "  \n",
    "category_precision = same_category_count / total_recommendations  \n",
    "print(f\"Précision de la catégorie: {category_precision:.4f}\") "
   ]
  },
  {
   "cell_type": "code",
   "execution_count": 10,
   "id": "d4f1840d-d33b-44ec-8cde-7fcb8a98c615",
   "metadata": {},
   "outputs": [
    {
     "name": "stdout",
     "output_type": "stream",
     "text": [
      "\n",
      " Sauvegarde du modèle et des résultats...\n",
      "Embeddings BERT sauvegardés dans '../models/content_based/bert_embeddings.pkl'\n",
      "Modèle KNN pour BERT sauvegardé dans '../models/content_based/bert_knn_model.pkl'\n",
      "Résultats sauvegardés dans '../results/bert_results.pkl'\n",
      "\n",
      " Filtrage basé sur le contenu (BERT + KNN) terminé!\n"
     ]
    }
   ],
   "source": [
    "  \n",
    "# Sauvegarde des résultats pour l'évaluation comparative  \n",
    "results = {  \n",
    "    'bert_knn': {  \n",
    "        'category_precision': category_precision  \n",
    "    }  \n",
    "}  \n",
    "  \n",
    "#  Sauvegarde du modèle et des résultats  \n",
    "print(\"\\n Sauvegarde du modèle et des résultats...\")  \n",
    "  \n",
    "# Créer les dossiers s'ils n'existent pas  \n",
    "os.makedirs('../models/content_based', exist_ok=True)  \n",
    "os.makedirs('../results', exist_ok=True)  \n",
    "  \n",
    "# Sauvegarde des embeddings BERT  \n",
    "with open('../models/content_based/bert_embeddings.pkl', 'wb') as f:  \n",
    "    pickle.dump(embeddings, f)  \n",
    "print(\"Embeddings BERT sauvegardés dans '../models/content_based/bert_embeddings.pkl'\")  \n",
    "  \n",
    "# Sauvegarde du modèle KNN  \n",
    "with open('../models/content_based/bert_knn_model.pkl', 'wb') as f:  \n",
    "    pickle.dump(knn_model, f)  \n",
    "print(\"Modèle KNN pour BERT sauvegardé dans '../models/content_based/bert_knn_model.pkl'\")  \n",
    "  \n",
    "# Sauvegarde des résultats  \n",
    "with open('../results/bert_results.pkl', 'wb') as f:  \n",
    "    pickle.dump(results, f)  \n",
    "print(\"Résultats sauvegardés dans '../results/bert_results.pkl'\")  \n",
    "  \n",
    "print(\"\\n Filtrage basé sur le contenu (BERT + KNN) terminé!\")"
   ]
  },
  {
   "cell_type": "code",
   "execution_count": null,
   "id": "18b2f917-74bb-4d36-bdcf-5f15c7f7e0b2",
   "metadata": {},
   "outputs": [],
   "source": []
  }
 ],
 "metadata": {
  "kernelspec": {
   "display_name": "Python 3 (ipykernel)",
   "language": "python",
   "name": "python3"
  },
  "language_info": {
   "codemirror_mode": {
    "name": "ipython",
    "version": 3
   },
   "file_extension": ".py",
   "mimetype": "text/x-python",
   "name": "python",
   "nbconvert_exporter": "python",
   "pygments_lexer": "ipython3",
   "version": "3.10.16"
  }
 },
 "nbformat": 4,
 "nbformat_minor": 5
}
