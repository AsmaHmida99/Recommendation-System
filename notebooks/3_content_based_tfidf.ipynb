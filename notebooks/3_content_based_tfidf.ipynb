{
 "cells": [
  {
   "cell_type": "code",
   "execution_count": 1,
   "id": "2aa9201b-dd10-48d7-af12-ee623b623bd5",
   "metadata": {},
   "outputs": [],
   "source": [
    "# Importation des bibliothèques  \n",
    "import pandas as pd  \n",
    "import numpy as np  \n",
    "import matplotlib.pyplot as plt  \n",
    "import pickle  \n",
    "from sklearn.feature_extraction.text import TfidfVectorizer  \n",
    "from sklearn.neighbors import NearestNeighbors  \n",
    "import os  \n",
    "import warnings  \n",
    "warnings.filterwarnings(\"ignore\")  "
   ]
  },
  {
   "cell_type": "code",
   "execution_count": 2,
   "id": "0319c382-571b-491b-a9a2-af80fa3d812f",
   "metadata": {},
   "outputs": [
    {
     "name": "stdout",
     "output_type": "stream",
     "text": [
      "Chargement des données préparées...\n",
      "Données chargées depuis le fichier pickle.\n",
      "Forme du dataset: (5000, 14)\n",
      "\n",
      "Aperçu des données:\n"
     ]
    },
    {
     "data": {
      "text/html": [
       "<div>\n",
       "<style scoped>\n",
       "    .dataframe tbody tr th:only-of-type {\n",
       "        vertical-align: middle;\n",
       "    }\n",
       "\n",
       "    .dataframe tbody tr th {\n",
       "        vertical-align: top;\n",
       "    }\n",
       "\n",
       "    .dataframe thead th {\n",
       "        text-align: right;\n",
       "    }\n",
       "</style>\n",
       "<table border=\"1\" class=\"dataframe\">\n",
       "  <thead>\n",
       "    <tr style=\"text-align: right;\">\n",
       "      <th></th>\n",
       "      <th>Uniq Id</th>\n",
       "      <th>Product Id</th>\n",
       "      <th>Product Name</th>\n",
       "      <th>Product Rating</th>\n",
       "      <th>Clicked</th>\n",
       "      <th>View_Time_Sec</th>\n",
       "      <th>Product Description</th>\n",
       "      <th>Product Tags</th>\n",
       "      <th>Product Category</th>\n",
       "      <th>Product Brand</th>\n",
       "      <th>Product Reviews Count</th>\n",
       "      <th>Full_Text</th>\n",
       "      <th>Norm_View_Time</th>\n",
       "      <th>Rating</th>\n",
       "    </tr>\n",
       "  </thead>\n",
       "  <tbody>\n",
       "    <tr>\n",
       "      <th>0</th>\n",
       "      <td>1705736792d82aa2f2d3caf1c07c53f4</td>\n",
       "      <td>2e17bf4acecdece67fc00f07ad62c910</td>\n",
       "      <td>OPI Infinite Shine, Nail Lacquer Nail Polish, ...</td>\n",
       "      <td>4.218750</td>\n",
       "      <td>0</td>\n",
       "      <td>0</td>\n",
       "      <td></td>\n",
       "      <td>OPI Infinite Shine, Nail Lacquer Nail Polish, ...</td>\n",
       "      <td>Premium Beauty &gt; Premium Makeup &gt; Premium Nail...</td>\n",
       "      <td>OPI</td>\n",
       "      <td>571.035565</td>\n",
       "      <td>opi infinite shine, nail lacquer nail polish,...</td>\n",
       "      <td>0.000000</td>\n",
       "      <td>2.109375</td>\n",
       "    </tr>\n",
       "    <tr>\n",
       "      <th>1</th>\n",
       "      <td>95a9fe6f4810fcfc7ff244fd06784f11</td>\n",
       "      <td>076e5854a62dd283c253d6bae415af1f</td>\n",
       "      <td>Nice n Easy Permanent Color, 111 Natural Mediu...</td>\n",
       "      <td>3.966667</td>\n",
       "      <td>1</td>\n",
       "      <td>147</td>\n",
       "      <td>Pack of 3 Pack of 3 for the UPC: 381519000201 ...</td>\n",
       "      <td>Nice 'n Easy Permanent Color, 111 Natural Medi...</td>\n",
       "      <td>Beauty &gt; Hair Care &gt; Hair Color &gt; Auburn Hair ...</td>\n",
       "      <td>Nice'n Easy</td>\n",
       "      <td>571.035565</td>\n",
       "      <td>pack of 3 pack of 3 for the upc: 381519000201 ...</td>\n",
       "      <td>0.816667</td>\n",
       "      <td>4.300000</td>\n",
       "    </tr>\n",
       "    <tr>\n",
       "      <th>2</th>\n",
       "      <td>8d4d0330178d3ed181b15a4102b287f2</td>\n",
       "      <td>8a4fe5d9c7a6ed26cc44d785a454b124</td>\n",
       "      <td>Clairol Nice N Easy Permanent Color 7/106A Nat...</td>\n",
       "      <td>4.500000</td>\n",
       "      <td>0</td>\n",
       "      <td>0</td>\n",
       "      <td>This Clairol Nice N Easy Permanent Color gives...</td>\n",
       "      <td>Clairol Nice 'N Easy Permanent Color 7/106A Na...</td>\n",
       "      <td>Beauty &gt; Hair Care &gt; Hair Color &gt; Permanent Ha...</td>\n",
       "      <td>Clairol</td>\n",
       "      <td>29221.000000</td>\n",
       "      <td>this clairol nice n easy permanent color gives...</td>\n",
       "      <td>0.000000</td>\n",
       "      <td>2.250000</td>\n",
       "    </tr>\n",
       "    <tr>\n",
       "      <th>3</th>\n",
       "      <td>fddc4df45b35efd886794b261f730c51</td>\n",
       "      <td>03b5fb878a33eadff8b033419eab9669</td>\n",
       "      <td>Kokie Professional Matte Lipstick, Hot Berry, ...</td>\n",
       "      <td>4.024138</td>\n",
       "      <td>0</td>\n",
       "      <td>0</td>\n",
       "      <td>Calling all matte lip lovers! Indulge in our r...</td>\n",
       "      <td>Kokie Professional Matte Lipstick, Hot Berry, ...</td>\n",
       "      <td>Beauty &gt; Makeup &gt; Lip</td>\n",
       "      <td>Kokie Cosmetics</td>\n",
       "      <td>571.035565</td>\n",
       "      <td>calling all matte lip lovers! indulge in our r...</td>\n",
       "      <td>0.000000</td>\n",
       "      <td>2.012069</td>\n",
       "    </tr>\n",
       "    <tr>\n",
       "      <th>4</th>\n",
       "      <td>0990cf89a59ca6a0460349a3e4f51d42</td>\n",
       "      <td>ce3d761e57d6ccad80619297b5b1bcbc</td>\n",
       "      <td>Gillette TRAC II Plus Razor Blade Refills, Fit...</td>\n",
       "      <td>5.000000</td>\n",
       "      <td>1</td>\n",
       "      <td>177</td>\n",
       "      <td>In 1971, Gillette introduced the Trac II razor...</td>\n",
       "      <td>Gillette TRAC II Plus Razor Blade Refills, Fit...</td>\n",
       "      <td>Seasonal &gt; Stock Up Essentials &gt; Personal Care...</td>\n",
       "      <td>Gillette</td>\n",
       "      <td>131.000000</td>\n",
       "      <td>in 1971, gillette introduced the trac ii razor...</td>\n",
       "      <td>0.983333</td>\n",
       "      <td>4.983333</td>\n",
       "    </tr>\n",
       "  </tbody>\n",
       "</table>\n",
       "</div>"
      ],
      "text/plain": [
       "                            Uniq Id                        Product Id  \\\n",
       "0  1705736792d82aa2f2d3caf1c07c53f4  2e17bf4acecdece67fc00f07ad62c910   \n",
       "1  95a9fe6f4810fcfc7ff244fd06784f11  076e5854a62dd283c253d6bae415af1f   \n",
       "2  8d4d0330178d3ed181b15a4102b287f2  8a4fe5d9c7a6ed26cc44d785a454b124   \n",
       "3  fddc4df45b35efd886794b261f730c51  03b5fb878a33eadff8b033419eab9669   \n",
       "4  0990cf89a59ca6a0460349a3e4f51d42  ce3d761e57d6ccad80619297b5b1bcbc   \n",
       "\n",
       "                                        Product Name  Product Rating  Clicked  \\\n",
       "0  OPI Infinite Shine, Nail Lacquer Nail Polish, ...        4.218750        0   \n",
       "1  Nice n Easy Permanent Color, 111 Natural Mediu...        3.966667        1   \n",
       "2  Clairol Nice N Easy Permanent Color 7/106A Nat...        4.500000        0   \n",
       "3  Kokie Professional Matte Lipstick, Hot Berry, ...        4.024138        0   \n",
       "4  Gillette TRAC II Plus Razor Blade Refills, Fit...        5.000000        1   \n",
       "\n",
       "   View_Time_Sec                                Product Description  \\\n",
       "0              0                                                      \n",
       "1            147  Pack of 3 Pack of 3 for the UPC: 381519000201 ...   \n",
       "2              0  This Clairol Nice N Easy Permanent Color gives...   \n",
       "3              0  Calling all matte lip lovers! Indulge in our r...   \n",
       "4            177  In 1971, Gillette introduced the Trac II razor...   \n",
       "\n",
       "                                        Product Tags  \\\n",
       "0  OPI Infinite Shine, Nail Lacquer Nail Polish, ...   \n",
       "1  Nice 'n Easy Permanent Color, 111 Natural Medi...   \n",
       "2  Clairol Nice 'N Easy Permanent Color 7/106A Na...   \n",
       "3  Kokie Professional Matte Lipstick, Hot Berry, ...   \n",
       "4  Gillette TRAC II Plus Razor Blade Refills, Fit...   \n",
       "\n",
       "                                    Product Category    Product Brand  \\\n",
       "0  Premium Beauty > Premium Makeup > Premium Nail...              OPI   \n",
       "1  Beauty > Hair Care > Hair Color > Auburn Hair ...      Nice'n Easy   \n",
       "2  Beauty > Hair Care > Hair Color > Permanent Ha...          Clairol   \n",
       "3                              Beauty > Makeup > Lip  Kokie Cosmetics   \n",
       "4  Seasonal > Stock Up Essentials > Personal Care...         Gillette   \n",
       "\n",
       "   Product Reviews Count                                          Full_Text  \\\n",
       "0             571.035565   opi infinite shine, nail lacquer nail polish,...   \n",
       "1             571.035565  pack of 3 pack of 3 for the upc: 381519000201 ...   \n",
       "2           29221.000000  this clairol nice n easy permanent color gives...   \n",
       "3             571.035565  calling all matte lip lovers! indulge in our r...   \n",
       "4             131.000000  in 1971, gillette introduced the trac ii razor...   \n",
       "\n",
       "   Norm_View_Time    Rating  \n",
       "0        0.000000  2.109375  \n",
       "1        0.816667  4.300000  \n",
       "2        0.000000  2.250000  \n",
       "3        0.000000  2.012069  \n",
       "4        0.983333  4.983333  "
      ]
     },
     "metadata": {},
     "output_type": "display_data"
    }
   ],
   "source": [
    "# Chargement des données préparées  \n",
    "print(\"Chargement des données préparées...\")  \n",
    "try:  \n",
    "    # Essayer de charger depuis le fichier pickle  \n",
    "    with open('../data/processed/clean_dataset.pkl', 'rb') as f:  \n",
    "        df = pickle.load(f)  \n",
    "    print(\"Données chargées depuis le fichier pickle.\")  \n",
    "except:  \n",
    "    # Sinon, charger depuis le CSV  \n",
    "    df = pd.read_csv('../data/processed/clean_dataset.csv')  \n",
    "    print(\"Données chargées depuis le fichier CSV.\")  \n",
    "  \n",
    "print(f\"Forme du dataset: {df.shape}\")  \n",
    "print(\"\\nAperçu des données:\")  \n",
    "display(df.head())  "
   ]
  },
  {
   "cell_type": "code",
   "execution_count": 3,
   "id": "c355cb2e-1a87-41cd-8ddd-0a0998b373d2",
   "metadata": {},
   "outputs": [
    {
     "name": "stdout",
     "output_type": "stream",
     "text": [
      "\n",
      " Préparation des données pour le filtrage basé sur le contenu (TF-IDF + KNN)...\n",
      "Nombre de produits uniques: 4802\n"
     ]
    }
   ],
   "source": [
    "  \n",
    "# Préparation des données pour le filtrage basé sur le contenu  \n",
    "print(\"\\n Préparation des données pour le filtrage basé sur le contenu (TF-IDF + KNN)...\")  \n",
    "  \n",
    "# Création d'un DataFrame avec des produits uniques  \n",
    "products_df = df.drop_duplicates('Product Id')  \n",
    "print(f\"Nombre de produits uniques: {products_df['Product Id'].nunique()}\")  "
   ]
  },
  {
   "cell_type": "code",
   "execution_count": 4,
   "id": "eba64fbe-867d-4e66-9ddf-1f8ec50fa4d7",
   "metadata": {},
   "outputs": [
    {
     "name": "stdout",
     "output_type": "stream",
     "text": [
      "\n",
      " Vectorisation TF-IDF...\n"
     ]
    }
   ],
   "source": [
    "  \n",
    "#  Vectorisation TF-IDF  \n",
    "print(\"\\n Vectorisation TF-IDF...\")  \n",
    "tfidf = TfidfVectorizer(  \n",
    "    min_df=2,               \n",
    "    max_df=0.95,           \n",
    "    max_features=5000,     \n",
    "    stop_words='english',    \n",
    "    ngram_range=(1, 2)    \n",
    ")  "
   ]
  },
  {
   "cell_type": "code",
   "execution_count": 5,
   "id": "7e7fe5d0-8462-4e86-b0bd-ab0c889819c1",
   "metadata": {},
   "outputs": [
    {
     "name": "stdout",
     "output_type": "stream",
     "text": [
      "Forme de la matrice TF-IDF: (4802, 5000)\n",
      "Nombre de caractéristiques: 5000\n"
     ]
    }
   ],
   "source": [
    "  \n",
    "# Création de la matrice TF-IDF  \n",
    "tfidf_matrix = tfidf.fit_transform(products_df['Full_Text'])  \n",
    "print(f\"Forme de la matrice TF-IDF: {tfidf_matrix.shape}\")  \n",
    "print(f\"Nombre de caractéristiques: {len(tfidf.get_feature_names_out())}\")  \n",
    "  "
   ]
  },
  {
   "cell_type": "code",
   "execution_count": 7,
   "id": "02e15ad2-8a46-409a-8c49-052edc39c993",
   "metadata": {},
   "outputs": [
    {
     "name": "stdout",
     "output_type": "stream",
     "text": [
      "\n",
      " Entraînement du modèle KNN sur les vecteurs TF-IDF...\n",
      "Modèle KNN entraîné avec succès.\n"
     ]
    }
   ],
   "source": [
    "  \n",
    "# Modèle KNN pour TF-IDF  \n",
    "print(\"\\n Entraînement du modèle KNN sur les vecteurs TF-IDF...\")  \n",
    "knn_model = NearestNeighbors(  \n",
    "    n_neighbors=10,         \n",
    "    algorithm='auto',       \n",
    "    metric='cosine'         \n",
    ")  \n",
    "knn_model.fit(tfidf_matrix)  \n",
    "print(\"Modèle KNN entraîné avec succès.\")  "
   ]
  },
  {
   "cell_type": "code",
   "execution_count": 8,
   "id": "cbcf2e1d-b53e-40e3-ba54-b9dfb2fd1a77",
   "metadata": {},
   "outputs": [
    {
     "name": "stdout",
     "output_type": "stream",
     "text": [
      "\n",
      " Exemple de recommandation avec TF-IDF + KNN:\n",
      "Produit sélectionné: Revlon ColorStay Longwear Lip Liner, 665 Plum, 0.01 oz\n",
      "Catégorie: Beauty > Beauty by Topic > Mindful Beauty > Mindful Beauty Cosmetics\n",
      "\n",
      "Produits similaires:\n",
      "1. Rimmel London Exaggerate Full Color Lip Liner, Innocent (Similarité: 0.5358)\n",
      "   Catégorie: Beauty > Beauty by Top Brands > Rimmel > Rimmel Lip Makeup\n",
      "2. NARS LIP LINER 0.01 OZ WAIMEA NARS/VELVET LIP LINER PENCIL WAIMEA 0.01 OZ (0.5 ML) (Similarité: 0.4877)\n",
      "   Catégorie: Premium Beauty > Premium Makeup > Premium Lips > Premium Lip Liner\n",
      "3. Lipstick Queen Womens Visible Lip Liner FGS100444-DESERTTAUPE (Similarité: 0.3931)\n",
      "   Catégorie: Premium Beauty > Premium Makeup > Premium Lips > Premium Lipstick\n",
      "4. LANCOME LE LIP LINER IDEAL .04 OZ (1.1 ML) (Similarité: 0.3462)\n",
      "   Catégorie: Premium Beauty > Premium Makeup > Premium Lips > Premium Lip Liner\n",
      "5. LOreal Paris Colour Riche Lip Liner, Lasting Plum, 0.007 oz. (Similarité: 0.3442)\n",
      "   Catégorie: Beauty > Beauty by Top Brands > L'Oreal > L'Oreal Makeup\n"
     ]
    }
   ],
   "source": [
    "  \n",
    "# Exemple de recommandation  \n",
    "print(\"\\n Exemple de recommandation avec TF-IDF + KNN:\")  \n",
    "# Sélectionner un produit aléatoire  \n",
    "sample_idx = np.random.randint(0, len(products_df))  \n",
    "sample_product = products_df.iloc[sample_idx]  \n",
    "print(f\"Produit sélectionné: {sample_product['Product Name']}\")  \n",
    "print(f\"Catégorie: {sample_product['Product Category']}\")  \n",
    "  \n",
    "# Trouver les produits similaires  \n",
    "sample_vector = tfidf_matrix[sample_idx].reshape(1, -1)  \n",
    "distances, indices = knn_model.kneighbors(sample_vector)  \n",
    "  \n",
    "print(\"\\nProduits similaires:\")  \n",
    "for i, idx in enumerate(indices[0][1:6]):  # Ignorer le premier qui est le produit lui-même  \n",
    "    similar_product = products_df.iloc[idx]  \n",
    "    print(f\"{i+1}. {similar_product['Product Name']} (Similarité: {1-distances[0][i+1]:.4f})\")  \n",
    "    print(f\"   Catégorie: {similar_product['Product Category']}\")  "
   ]
  },
  {
   "cell_type": "code",
   "execution_count": 9,
   "id": "e8afa05e-a611-41ff-b204-82e2c240259d",
   "metadata": {},
   "outputs": [
    {
     "name": "stdout",
     "output_type": "stream",
     "text": [
      "\n",
      " Évaluation du modèle TF-IDF + KNN:\n",
      "Précision de la catégorie: 0.3760\n"
     ]
    }
   ],
   "source": [
    "#  Évaluation  \n",
    "print(\"\\n Évaluation du modèle TF-IDF + KNN:\")  \n",
    "# Calcul de la précision de la catégorie  \n",
    "same_category_count = 0  \n",
    "total_recommendations = 0  \n",
    "  \n",
    "# Échantillonner 100 produits aléatoires pour l'évaluation  \n",
    "sample_size = min(100, len(products_df))  \n",
    "sample_indices = np.random.choice(len(products_df), sample_size, replace=False)  \n",
    "  \n",
    "for idx in sample_indices:  \n",
    "    product = products_df.iloc[idx]  \n",
    "    product_vector = tfidf_matrix[idx].reshape(1, -1)  \n",
    "    distances, indices = knn_model.kneighbors(product_vector)  \n",
    "      \n",
    "    # Vérifier si les 5 premiers produits recommandés sont de la même catégorie  \n",
    "    for rec_idx in indices[0][1:6]:  \n",
    "        recommended_product = products_df.iloc[rec_idx]  \n",
    "        if recommended_product['Product Category'] == product['Product Category']:  \n",
    "            same_category_count += 1  \n",
    "        total_recommendations += 1  \n",
    "  \n",
    "category_precision = same_category_count / total_recommendations  \n",
    "print(f\"Précision de la catégorie: {category_precision:.4f}\") "
   ]
  },
  {
   "cell_type": "code",
   "execution_count": 10,
   "id": "3f25a363-68d0-4825-a29f-d42d6fb7f7d1",
   "metadata": {},
   "outputs": [
    {
     "name": "stdout",
     "output_type": "stream",
     "text": [
      "\n",
      " Sauvegarde du modèle et des résultats...\n",
      "Vectoriseur TF-IDF sauvegardé dans '../models/content_based/tfidf_vectorizer.pkl'\n",
      "Modèle KNN pour TF-IDF sauvegardé dans '../models/content_based/tfidf_knn_model.pkl'\n",
      "Résultats sauvegardés dans '../results/tfidf_results.pkl'\n",
      "\n",
      " Filtrage basé sur le contenu (TF-IDF + KNN) terminé!\n"
     ]
    }
   ],
   "source": [
    "  \n",
    "# Sauvegarde des résultats pour l'évaluation comparative  \n",
    "results = {  \n",
    "    'tfidf_knn': {  \n",
    "        'category_precision': category_precision  \n",
    "    }  \n",
    "}  \n",
    "  \n",
    "# Sauvegarde du modèle et des résultats  \n",
    "print(\"\\n Sauvegarde du modèle et des résultats...\")  \n",
    "  \n",
    "# Créer les dossiers s'ils n'existent pas  \n",
    "os.makedirs('../models/content_based', exist_ok=True)  \n",
    "os.makedirs('../results', exist_ok=True)  \n",
    "  \n",
    "# Sauvegarde du vectoriseur TF-IDF  \n",
    "with open('../models/content_based/tfidf_vectorizer.pkl', 'wb') as f:  \n",
    "    pickle.dump(tfidf, f)  \n",
    "print(\"Vectoriseur TF-IDF sauvegardé dans '../models/content_based/tfidf_vectorizer.pkl'\")  \n",
    "  \n",
    "# Sauvegarde du modèle KNN  \n",
    "with open('../models/content_based/tfidf_knn_model.pkl', 'wb') as f:  \n",
    "    pickle.dump(knn_model, f)  \n",
    "print(\"Modèle KNN pour TF-IDF sauvegardé dans '../models/content_based/tfidf_knn_model.pkl'\")  \n",
    "  \n",
    "# Sauvegarde des résultats  \n",
    "with open('../results/tfidf_results.pkl', 'wb') as f:  \n",
    "    pickle.dump(results, f)  \n",
    "print(\"Résultats sauvegardés dans '../results/tfidf_results.pkl'\")  \n",
    "  \n",
    "print(\"\\n Filtrage basé sur le contenu (TF-IDF + KNN) terminé!\")"
   ]
  },
  {
   "cell_type": "code",
   "execution_count": null,
   "id": "b70f6d6b-d189-40d6-a67b-851a1029840d",
   "metadata": {},
   "outputs": [],
   "source": []
  }
 ],
 "metadata": {
  "kernelspec": {
   "display_name": "Python 3 (ipykernel)",
   "language": "python",
   "name": "python3"
  },
  "language_info": {
   "codemirror_mode": {
    "name": "ipython",
    "version": 3
   },
   "file_extension": ".py",
   "mimetype": "text/x-python",
   "name": "python",
   "nbconvert_exporter": "python",
   "pygments_lexer": "ipython3",
   "version": "3.10.16"
  }
 },
 "nbformat": 4,
 "nbformat_minor": 5
}
